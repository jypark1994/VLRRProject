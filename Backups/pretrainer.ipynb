{
 "cells": [
  {
   "cell_type": "code",
   "execution_count": 8,
   "metadata": {
    "tags": []
   },
   "outputs": [
    {
     "output_type": "stream",
     "name": "stdout",
     "text": "Using device ... cuda\n"
    }
   ],
   "source": [
    "import torch\n",
    "import torchvision\n",
    "import torch.nn.functional as F\n",
    "from torch import nn, optim, utils\n",
    "from torchvision import models, datasets, transforms\n",
    "\n",
    "import PIL.Image as Image\n",
    "\n",
    "from tqdm import tqdm\n",
    "import random\n",
    "import cv2\n",
    "import os\n",
    "import time\n",
    "\n",
    "import matplotlib.pyplot as plt\n",
    "\n",
    "plt.rcParams['figure.figsize'] = (20,20)\n",
    "device = torch.device('cuda') if torch.cuda.is_available() else torch.device('cpu')\n",
    "print(\"Using device ...\", device)"
   ]
  },
  {
   "cell_type": "code",
   "execution_count": 9,
   "metadata": {
    "tags": []
   },
   "outputs": [
    {
     "output_type": "error",
     "ename": "NameError",
     "evalue": "name 'init_scale' is not defined",
     "traceback": [
      "\u001b[0;31m---------------------------------------------------------------------------\u001b[0m",
      "\u001b[0;31mNameError\u001b[0m                                 Traceback (most recent call last)",
      "\u001b[0;32m<ipython-input-9-a0b295052de6>\u001b[0m in \u001b[0;36m<module>\u001b[0;34m\u001b[0m\n\u001b[1;32m     11\u001b[0m transforms_test = transforms.Compose([\n\u001b[1;32m     12\u001b[0m     \u001b[0mtransforms\u001b[0m\u001b[0;34m.\u001b[0m\u001b[0mColorJitter\u001b[0m\u001b[0;34m(\u001b[0m\u001b[0mbrightness\u001b[0m\u001b[0;34m=\u001b[0m\u001b[0;36m0.1\u001b[0m\u001b[0;34m,\u001b[0m\u001b[0mcontrast\u001b[0m\u001b[0;34m=\u001b[0m\u001b[0;36m0.2\u001b[0m\u001b[0;34m,\u001b[0m\u001b[0msaturation\u001b[0m\u001b[0;34m=\u001b[0m\u001b[0;36m0.2\u001b[0m\u001b[0;34m,\u001b[0m\u001b[0mhue\u001b[0m\u001b[0;34m=\u001b[0m\u001b[0;36m0.1\u001b[0m\u001b[0;34m)\u001b[0m\u001b[0;34m,\u001b[0m\u001b[0;34m\u001b[0m\u001b[0;34m\u001b[0m\u001b[0m\n\u001b[0;32m---> 13\u001b[0;31m     \u001b[0mtransforms\u001b[0m\u001b[0;34m.\u001b[0m\u001b[0mRandomAffine\u001b[0m\u001b[0;34m(\u001b[0m\u001b[0;36m360\u001b[0m\u001b[0;34m,\u001b[0m\u001b[0mscale\u001b[0m\u001b[0;34m=\u001b[0m\u001b[0;34m[\u001b[0m\u001b[0minit_scale\u001b[0m\u001b[0;34m-\u001b[0m\u001b[0;36m0.15\u001b[0m\u001b[0;34m,\u001b[0m\u001b[0minit_scale\u001b[0m\u001b[0;34m+\u001b[0m\u001b[0;36m0.15\u001b[0m\u001b[0;34m]\u001b[0m\u001b[0;34m)\u001b[0m\u001b[0;34m,\u001b[0m\u001b[0;34m\u001b[0m\u001b[0;34m\u001b[0m\u001b[0m\n\u001b[0m\u001b[1;32m     14\u001b[0m     \u001b[0mtransforms\u001b[0m\u001b[0;34m.\u001b[0m\u001b[0mCenterCrop\u001b[0m\u001b[0;34m(\u001b[0m\u001b[0;36m224\u001b[0m\u001b[0;34m)\u001b[0m\u001b[0;34m,\u001b[0m\u001b[0;34m\u001b[0m\u001b[0;34m\u001b[0m\u001b[0m\n\u001b[1;32m     15\u001b[0m     \u001b[0mtransforms\u001b[0m\u001b[0;34m.\u001b[0m\u001b[0mToTensor\u001b[0m\u001b[0;34m(\u001b[0m\u001b[0;34m)\u001b[0m\u001b[0;34m\u001b[0m\u001b[0;34m\u001b[0m\u001b[0m\n",
      "\u001b[0;31mNameError\u001b[0m: name 'init_scale' is not defined"
     ]
    }
   ],
   "source": [
    "down_scale = 1\n",
    "\n",
    "transforms_train = transforms.Compose([\n",
    "    transforms.ColorJitter(brightness=0.1,contrast=0.2,saturation=0.2,hue=0.1),\n",
    "    transforms.RandomAffine(360,scale=[1.15,1.25]),\n",
    "    transforms.CenterCrop(448),\n",
    "    transforms.Resize(224),\n",
    "    transforms.ToTensor(),\n",
    "])\n",
    "\n",
    "transforms_test = transforms.Compose([\n",
    "    transforms.ColorJitter(brightness=0.1,contrast=0.2,saturation=0.2,hue=0.1),\n",
    "    transforms.RandomAffine(360,scale=[1.15,1.25]),\n",
    "    transforms.CenterCrop(224),\n",
    "    transforms.ToTensor()\n",
    "])\n",
    "    \n",
    "# dataset = MosquitoDatasets(\"/data/MosquitoDL/TrainVal/\", transforms=mos_transforms)\n",
    "train_dataset = datasets.ImageFolder(\"~/dataset/MosquitoDL2020/MosquitoDL2X/train\", transform=transforms_train)\n",
    "train_loader = utils.data.DataLoader(train_dataset, batch_size=64, shuffle=True, num_workers=4)\n",
    "\n",
    "# dataset = MosquitoDatasets(\"/data/MosquitoDL/TrainVal/\", transforms=mos_transforms)\n",
    "# test_dataset = datasets.ImageFolder(\"/media/data/MosquitoDL/Test\", transform=transforms_test)\n",
    "test_dataset = datasets.ImageFolder(\"~/dataset/MosquitoDL2020/MosquitoDL2X/test\", transform=transforms_test)\n",
    "test_loader = utils.data.DataLoader(test_dataset, batch_size=64, shuffle=True, num_workers=4)\n",
    "\n",
    "# Show samples\n",
    "\n",
    "batch_sample = next(iter(train_loader))\n",
    "print(batch_sample[0].shape)\n",
    "\n",
    "image_samples = torchvision.utils.make_grid(batch_sample[0],nrow=8).permute((1,2,0))\n",
    "\n",
    "fig, ax = plt.subplots()\n",
    "ax.axis('off')\n",
    "ax.imshow(image_samples)\n",
    "ax.set_title(f\"Input Samples ↓x{down_scale}\")\n",
    "plt.savefig(\"./batch_samples.jpg\")\n",
    "\n",
    "batch_sample = next(iter(test_loader))\n",
    "image_samples = torchvision.utils.make_grid(batch_sample[0],nrow=8).permute((1,2,0))\n",
    "\n",
    "fig, ax = plt.subplots()\n",
    "ax.axis('off')\n",
    "ax.imshow(image_samples)\n",
    "ax.set_title(f\"Input Samples ↓x{down_scale}\")\n",
    "plt.savefig(\"./batch_samples.jpg\")"
   ]
  },
  {
   "cell_type": "code",
   "execution_count": 10,
   "metadata": {},
   "outputs": [],
   "source": [
    "def get_model(model, pretrained=False, num_classes = 6):\n",
    "    if model == 'resnet101':\n",
    "        net = models.resnet101(pretrained=pretrained)\n",
    "        net.fc = nn.Linear(in_features=2048, out_features=num_classes)\n",
    "    elif model == 'resnet50':\n",
    "        net = models.resnet50(pretrained=pretrained)\n",
    "        net.fc = nn.Linear(in_features=2048, out_features=num_classes)\n",
    "    elif model == 'resnet34':\n",
    "        net = models.resnet34(pretrained=pretrained)\n",
    "        net.fc = nn.Linear(in_features=512, out_features=num_classes)\n",
    "    elif model == 'resnet18':\n",
    "        net = models.resnet18(pretrained=pretrained)\n",
    "        net.fc = nn.Linear(in_features=512, out_features=num_classes)\n",
    "    return net\n",
    "model_name = 'resnet18'\n",
    "net_t = get_model(model_name, pretrained=True, num_classes=6)\n",
    "net_t = net_t.to(device)\n",
    "net_t = nn.DataParallel(net_t)"
   ]
  },
  {
   "cell_type": "code",
   "execution_count": 11,
   "metadata": {},
   "outputs": [],
   "source": [
    "def train(net, train_loader):\n",
    "    criterion = nn.CrossEntropyLoss()\n",
    "    optimizer = optim.Adam(net.parameters(),lr=1e-4, weight_decay=4e-5)\n",
    "    scheduler = optim.lr_scheduler.StepLR(optimizer, 50, gamma=0.1)\n",
    "    \n",
    "    train_avg_loss = 0\n",
    "    n_count = 0\n",
    "    n_corrects = 0\n",
    "\n",
    "    net.train()\n",
    "\n",
    "    for j, data in enumerate(train_loader):\n",
    "        batch, label = data[0].to(device), data[1].to(device)\n",
    "\n",
    "        optimizer.zero_grad()\n",
    "\n",
    "        pred = net(batch)\n",
    "\n",
    "        loss = criterion(pred, label)\n",
    "        train_avg_loss += loss\n",
    "\n",
    "        n_corrects += torch.sum(torch.argmax(pred, dim=1) == label).item()\n",
    "        n_count += label.shape[0]\n",
    "\n",
    "        loss.backward()\n",
    "        optimizer.step()\n",
    "\n",
    "    train_accuracy = n_corrects/n_count\n",
    "    train_avg_loss /= n_count\n",
    "\n",
    "    return train_accuracy, train_avg_loss, net"
   ]
  },
  {
   "cell_type": "code",
   "execution_count": 12,
   "metadata": {},
   "outputs": [],
   "source": [
    "def evaluate(net ,test_loader):\n",
    "    net.eval()\n",
    "    \n",
    "    n_count = 0\n",
    "    n_corrects = 0\n",
    "\n",
    "    for j, data in enumerate(test_loader):\n",
    "\n",
    "\n",
    "        batch, label = data[0].to(device), data[1].to(device)\n",
    "\n",
    "        pred = net(batch)\n",
    "\n",
    "        n_corrects += torch.sum(torch.argmax(pred, dim=1) == label).item()\n",
    "        n_count += label.shape[0]\n",
    "\n",
    "    test_accuracy = n_corrects/n_count\n",
    "    \n",
    "    return test_accuracy, net"
   ]
  },
  {
   "cell_type": "markdown",
   "metadata": {},
   "source": [
    "# Better quality image sample test\n",
    "- 448 -> 224 : Test 61%\n",
    "- 224 -> 224 : Test ??%"
   ]
  },
  {
   "cell_type": "code",
   "execution_count": 6,
   "metadata": {
    "tags": []
   },
   "outputs": [
    {
     "output_type": "stream",
     "name": "stdout",
     "text": "149)\n├── Training Loss : 0.0002\n├── Training accuracy : 99.52%\n│ Testing ...\n└── Testing accuracy : 76.89%\nEpoch time : 0[h] 0[m] 35[s]\nEstimated time : 1[h] 27[m] 40[s]\n\n\n┌ Epoch (43/149)\n├── Training Loss : 0.0002\n├── Training accuracy : 99.64%\n│ Testing ...\n└── Testing accuracy : 85.00%\n  └──> Saving the best model to \"./resnet18_x1.pth\"\nEpoch time : 0[h] 0[m] 35[s]\nEstimated time : 1[h] 27[m] 32[s]\n\n\n┌ Epoch (44/149)\n├── Training Loss : 0.0003\n├── Training accuracy : 99.37%\n│ Testing ...\n└── Testing accuracy : 76.11%\nEpoch time : 0[h] 0[m] 35[s]\nEstimated time : 1[h] 27[m] 7[s]\n\n\n┌ Epoch (45/149)\n├── Training Loss : 0.0002\n├── Training accuracy : 99.33%\n│ Testing ...\n└── Testing accuracy : 76.22%\nEpoch time : 0[h] 0[m] 35[s]\nEstimated time : 1[h] 27[m] 30[s]\n\n\n┌ Epoch (46/149)\n├── Training Loss : 0.0003\n├── Training accuracy : 99.48%\n│ Testing ...\n└── Testing accuracy : 72.40%\nEpoch time : 0[h] 0[m] 35[s]\nEstimated time : 1[h] 27[m] 10[s]\n\n\n┌ Epoch (47/149)\n├── Training Loss : 0.0003\n├── Training accuracy : 99.48%\n│ Testing ...\n└── Testing accuracy : 67.16%\nEpoch time : 0[h] 0[m] 35[s]\nEstimated time : 1[h] 27[m] 0[s]\n\n\n┌ Epoch (48/149)\n├── Training Loss : 0.0002\n├── Training accuracy : 99.68%\n│ Testing ...\n└── Testing accuracy : 67.77%\nEpoch time : 0[h] 0[m] 35[s]\nEstimated time : 1[h] 27[m] 13[s]\n\n\n┌ Epoch (49/149)\n├── Training Loss : 0.0003\n├── Training accuracy : 99.68%\n│ Testing ...\n└── Testing accuracy : 76.59%\nEpoch time : 0[h] 0[m] 35[s]\nEstimated time : 1[h] 27[m] 11[s]\n\n\n┌ Epoch (50/149)\n├── Training Loss : 0.0003\n├── Training accuracy : 99.40%\n│ Testing ...\n└── Testing accuracy : 51.93%\nEpoch time : 0[h] 0[m] 35[s]\nEstimated time : 1[h] 27[m] 9[s]\n\n\n┌ Epoch (51/149)\n├── Training Loss : 0.0002\n├── Training accuracy : 99.44%\n│ Testing ...\n└── Testing accuracy : 68.68%\nEpoch time : 0[h] 0[m] 35[s]\nEstimated time : 1[h] 27[m] 25[s]\n\n\n┌ Epoch (52/149)\n├── Training Loss : 0.0003\n├── Training accuracy : 99.44%\n│ Testing ...\n└── Testing accuracy : 66.62%\nEpoch time : 0[h] 0[m] 35[s]\nEstimated time : 1[h] 26[m] 39[s]\n\n\n┌ Epoch (53/149)\n├── Training Loss : 0.0003\n├── Training accuracy : 99.33%\n│ Testing ...\n└── Testing accuracy : 54.36%\nEpoch time : 0[h] 0[m] 35[s]\nEstimated time : 1[h] 27[m] 12[s]\n\n\n┌ Epoch (54/149)\n├── Training Loss : 0.0002\n├── Training accuracy : 99.44%\n│ Testing ...\n└── Testing accuracy : 67.47%\nEpoch time : 0[h] 0[m] 35[s]\nEstimated time : 1[h] 27[m] 13[s]\n\n\n┌ Epoch (55/149)\n├── Training Loss : 0.0002\n├── Training accuracy : 99.60%\n│ Testing ...\n└── Testing accuracy : 70.61%\nEpoch time : 0[h] 0[m] 35[s]\nEstimated time : 1[h] 26[m] 55[s]\n\n\n┌ Epoch (56/149)\n├── Training Loss : 0.0002\n├── Training accuracy : 99.60%\n│ Testing ...\n└── Testing accuracy : 73.18%\nEpoch time : 0[h] 0[m] 35[s]\nEstimated time : 1[h] 26[m] 58[s]\n\n\n┌ Epoch (57/149)\n├── Training Loss : 0.0001\n├── Training accuracy : 99.76%\n│ Testing ...\n└── Testing accuracy : 63.95%\nEpoch time : 0[h] 0[m] 35[s]\nEstimated time : 1[h] 27[m] 15[s]\n\n\n┌ Epoch (58/149)\n├── Training Loss : 0.0002\n├── Training accuracy : 99.84%\n│ Testing ...\n└── Testing accuracy : 60.27%\nEpoch time : 0[h] 0[m] 35[s]\nEstimated time : 1[h] 26[m] 58[s]\n\n\n┌ Epoch (59/149)\n├── Training Loss : 0.0003\n├── Training accuracy : 99.40%\n│ Testing ...\n└── Testing accuracy : 78.55%\nEpoch time : 0[h] 0[m] 35[s]\nEstimated time : 1[h] 26[m] 43[s]\n\n\n┌ Epoch (60/149)\n├── Training Loss : 0.0002\n├── Training accuracy : 99.72%\n│ Testing ...\n└── Testing accuracy : 70.44%\nEpoch time : 0[h] 0[m] 35[s]\nEstimated time : 1[h] 27[m] 2[s]\n\n\n┌ Epoch (61/149)\n├── Training Loss : 0.0001\n├── Training accuracy : 99.80%\n│ Testing ...\n└── Testing accuracy : 74.02%\nEpoch time : 0[h] 0[m] 35[s]\nEstimated time : 1[h] 26[m] 34[s]\n\n\n┌ Epoch (62/149)\n├── Training Loss : 0.0002\n├── Training accuracy : 99.60%\n│ Testing ...\n└── Testing accuracy : 73.75%\nEpoch time : 0[h] 0[m] 35[s]\nEstimated time : 1[h] 27[m] 14[s]\n\n\n┌ Epoch (63/149)\n├── Training Loss : 0.0001\n├── Training accuracy : 99.68%\n│ Testing ...\n└── Testing accuracy : 77.23%\nEpoch time : 0[h] 0[m] 35[s]\nEstimated time : 1[h] 26[m] 50[s]\n\n\n┌ Epoch (64/149)\n├── Training Loss : 0.0002\n├── Training accuracy : 99.60%\n│ Testing ...\n└── Testing accuracy : 78.65%\nEpoch time : 0[h] 0[m] 35[s]\nEstimated time : 1[h] 27[m] 9[s]\n\n\n┌ Epoch (65/149)\n├── Training Loss : 0.0002\n├── Training accuracy : 99.76%\n│ Testing ...\n└── Testing accuracy : 71.28%\nEpoch time : 0[h] 0[m] 35[s]\nEstimated time : 1[h] 27[m] 24[s]\n\n\n┌ Epoch (66/149)\n├── Training Loss : 0.0002\n├── Training accuracy : 99.44%\n│ Testing ...\n└── Testing accuracy : 80.24%\nEpoch time : 0[h] 0[m] 35[s]\nEstimated time : 1[h] 26[m] 58[s]\n\n\n┌ Epoch (67/149)\n├── Training Loss : 0.0002\n├── Training accuracy : 99.52%\n│ Testing ...\n└── Testing accuracy : 75.27%\nEpoch time : 0[h] 0[m] 35[s]\nEstimated time : 1[h] 27[m] 2[s]\n\n\n┌ Epoch (68/149)\n├── Training Loss : 0.0002\n├── Training accuracy : 99.72%\n│ Testing ...\n└── Testing accuracy : 77.84%\nEpoch time : 0[h] 0[m] 35[s]\nEstimated time : 1[h] 26[m] 42[s]\n\n\n┌ Epoch (69/149)\n├── Training Loss : 0.0002\n├── Training accuracy : 99.60%\n│ Testing ...\n└── Testing accuracy : 74.73%\nEpoch time : 0[h] 0[m] 35[s]\nEstimated time : 1[h] 26[m] 54[s]\n\n\n┌ Epoch (70/149)\n├── Training Loss : 0.0002\n├── Training accuracy : 99.72%\n│ Testing ...\n└── Testing accuracy : 73.78%\nEpoch time : 0[h] 0[m] 35[s]\nEstimated time : 1[h] 27[m] 13[s]\n\n\n┌ Epoch (71/149)\n├── Training Loss : 0.0002\n├── Training accuracy : 99.68%\n│ Testing ...\n└── Testing accuracy : 63.78%\nEpoch time : 0[h] 0[m] 35[s]\nEstimated time : 1[h] 26[m] 56[s]\n\n\n┌ Epoch (72/149)\n├── Training Loss : 0.0002\n├── Training accuracy : 99.76%\n│ Testing ...\n└── Testing accuracy : 66.86%\nEpoch time : 0[h] 0[m] 35[s]\nEstimated time : 1[h] 26[m] 40[s]\n\n\n┌ Epoch (73/149)\n├── Training Loss : 0.0002\n├── Training accuracy : 99.56%\n│ Testing ...\n└── Testing accuracy : 76.42%\nEpoch time : 0[h] 0[m] 35[s]\nEstimated time : 1[h] 26[m] 38[s]\n\n\n┌ Epoch (74/149)\n├── Training Loss : 0.0002\n├── Training accuracy : 99.60%\n│ Testing ...\n└── Testing accuracy : 75.91%\nEpoch time : 0[h] 0[m] 35[s]\nEstimated time : 1[h] 26[m] 54[s]\n\n\n┌ Epoch (75/149)\n├── Training Loss : 0.0003\n├── Training accuracy : 99.48%\n│ Testing ...\n└── Testing accuracy : 80.20%\nEpoch time : 0[h] 0[m] 35[s]\nEstimated time : 1[h] 26[m] 57[s]\n\n\n┌ Epoch (76/149)\n├── Training Loss : 0.0001\n├── Training accuracy : 99.72%\n│ Testing ...\n└── Testing accuracy : 59.53%\nEpoch time : 0[h] 0[m] 35[s]\nEstimated time : 1[h] 26[m] 29[s]\n\n\n┌ Epoch (77/149)\n├── Training Loss : 0.0002\n├── Training accuracy : 99.64%\n│ Testing ...\n└── Testing accuracy : 76.01%\nEpoch time : 0[h] 0[m] 35[s]\nEstimated time : 1[h] 26[m] 33[s]\n\n\n┌ Epoch (78/149)\n├── Training Loss : 0.0001\n├── Training accuracy : 99.64%\n│ Testing ...\n└── Testing accuracy : 64.32%\nEpoch time : 0[h] 0[m] 35[s]\nEstimated time : 1[h] 26[m] 54[s]\n\n\n┌ Epoch (79/149)\n├── Training Loss : 0.0002\n├── Training accuracy : 99.68%\n│ Testing ...\n└── Testing accuracy : 77.36%\nEpoch time : 0[h] 0[m] 35[s]\nEstimated time : 1[h] 26[m] 42[s]\n\n\n┌ Epoch (80/149)\n├── Training Loss : 0.0001\n├── Training accuracy : 99.72%\n│ Testing ...\n└── Testing accuracy : 78.61%\nEpoch time : 0[h] 0[m] 35[s]\nEstimated time : 1[h] 26[m] 28[s]\n\n\n┌ Epoch (81/149)\n├── Training Loss : 0.0001\n├── Training accuracy : 99.76%\n│ Testing ...\n└── Testing accuracy : 66.99%\nEpoch time : 0[h] 0[m] 35[s]\nEstimated time : 1[h] 26[m] 46[s]\n\n\n┌ Epoch (82/149)\n├── Training Loss : 0.0002\n├── Training accuracy : 99.64%\n│ Testing ...\n└── Testing accuracy : 54.56%\nEpoch time : 0[h] 0[m] 35[s]\nEstimated time : 1[h] 26[m] 28[s]\n\n\n┌ Epoch (83/149)\n├── Training Loss : 0.0002\n├── Training accuracy : 99.68%\n│ Testing ...\n└── Testing accuracy : 61.11%\nEpoch time : 0[h] 0[m] 35[s]\nEstimated time : 1[h] 26[m] 35[s]\n\n\n┌ Epoch (84/149)\n├── Training Loss : 0.0002\n├── Training accuracy : 99.72%\n│ Testing ...\n└── Testing accuracy : 62.91%\nEpoch time : 0[h] 0[m] 35[s]\nEstimated time : 1[h] 26[m] 25[s]\n\n\n┌ Epoch (85/149)\n├── Training Loss : 0.0001\n├── Training accuracy : 99.84%\n│ Testing ...\n└── Testing accuracy : 70.30%\nEpoch time : 0[h] 0[m] 35[s]\nEstimated time : 1[h] 26[m] 25[s]\n\n\n┌ Epoch (86/149)\n├── Training Loss : 0.0001\n├── Training accuracy : 99.80%\n│ Testing ...\n└── Testing accuracy : 81.08%\nEpoch time : 0[h] 0[m] 35[s]\nEstimated time : 1[h] 26[m] 32[s]\n\n\n┌ Epoch (87/149)\n├── Training Loss : 0.0001\n├── Training accuracy : 99.88%\n│ Testing ...\n└── Testing accuracy : 63.18%\nEpoch time : 0[h] 0[m] 35[s]\nEstimated time : 1[h] 26[m] 16[s]\n\n\n┌ Epoch (88/149)\n├── Training Loss : 0.0001\n├── Training accuracy : 99.88%\n│ Testing ...\n└── Testing accuracy : 71.15%\nEpoch time : 0[h] 0[m] 35[s]\nEstimated time : 1[h] 26[m] 39[s]\n\n\n┌ Epoch (89/149)\n├── Training Loss : 0.0002\n├── Training accuracy : 99.56%\n│ Testing ...\n└── Testing accuracy : 67.09%\nEpoch time : 0[h] 0[m] 35[s]\nEstimated time : 1[h] 26[m] 30[s]\n\n\n┌ Epoch (90/149)\n├── Training Loss : 0.0001\n├── Training accuracy : 99.68%\n│ Testing ...\n└── Testing accuracy : 81.42%\nEpoch time : 0[h] 0[m] 35[s]\nEstimated time : 1[h] 26[m] 6[s]\n\n\n┌ Epoch (91/149)\n├── Training Loss : 0.0002\n├── Training accuracy : 99.72%\n│ Testing ...\n└── Testing accuracy : 65.84%\nEpoch time : 0[h] 0[m] 35[s]\nEstimated time : 1[h] 26[m] 37[s]\n\n\n┌ Epoch (92/149)\n├── Training Loss : 0.0002\n├── Training accuracy : 99.68%\n│ Testing ...\n└── Testing accuracy : 71.76%\nEpoch time : 0[h] 0[m] 35[s]\nEstimated time : 1[h] 26[m] 19[s]\n\n\n┌ Epoch (93/149)\n├── Training Loss : 0.0001\n├── Training accuracy : 99.72%\n│ Testing ...\n└── Testing accuracy : 82.16%\nEpoch time : 0[h] 0[m] 35[s]\nEstimated time : 1[h] 26[m] 14[s]\n\n\n┌ Epoch (94/149)\n├── Training Loss : 0.0001\n├── Training accuracy : 99.76%\n│ Testing ...\n└── Testing accuracy : 86.62%\n  └──> Saving the best model to \"./resnet18_x1.pth\"\nEpoch time : 0[h] 0[m] 35[s]\nEstimated time : 1[h] 26[m] 30[s]\n\n\n┌ Epoch (95/149)\n├── Training Loss : 0.0001\n├── Training accuracy : 99.80%\n│ Testing ...\n└── Testing accuracy : 83.24%\nEpoch time : 0[h] 0[m] 35[s]\nEstimated time : 1[h] 26[m] 19[s]\n\n\n┌ Epoch (96/149)\n├── Training Loss : 0.0002\n├── Training accuracy : 99.60%\n│ Testing ...\n└── Testing accuracy : 66.59%\nEpoch time : 0[h] 0[m] 35[s]\nEstimated time : 1[h] 26[m] 14[s]\n\n\n┌ Epoch (97/149)\n├── Training Loss : 0.0001\n├── Training accuracy : 99.84%\n│ Testing ...\n└── Testing accuracy : 70.47%\nEpoch time : 0[h] 0[m] 35[s]\nEstimated time : 1[h] 26[m] 31[s]\n\n\n┌ Epoch (98/149)\n├── Training Loss : 0.0002\n├── Training accuracy : 99.68%\n│ Testing ...\n└── Testing accuracy : 76.82%\nEpoch time : 0[h] 0[m] 35[s]\nEstimated time : 1[h] 26[m] 22[s]\n\n\n┌ Epoch (99/149)\n├── Training Loss : 0.0003\n├── Training accuracy : 99.64%\n│ Testing ...\n└── Testing accuracy : 79.53%\nEpoch time : 0[h] 0[m] 35[s]\nEstimated time : 1[h] 26[m] 12[s]\n\n\n┌ Epoch (100/149)\n├── Training Loss : 0.0001\n├── Training accuracy : 99.88%\n│ Testing ...\n└── Testing accuracy : 70.68%\nEpoch time : 0[h] 0[m] 35[s]\nEstimated time : 1[h] 26[m] 5[s]\n\n\n┌ Epoch (101/149)\n├── Training Loss : 0.0005\n├── Training accuracy : 99.37%\n│ Testing ...\n└── Testing accuracy : 64.43%\nEpoch time : 0[h] 0[m] 35[s]\nEstimated time : 1[h] 26[m] 24[s]\n\n\n┌ Epoch (102/149)\n├── Training Loss : 0.0001\n├── Training accuracy : 99.80%\n│ Testing ...\n└── Testing accuracy : 67.53%\nEpoch time : 0[h] 0[m] 34[s]\nEstimated time : 1[h] 25[m] 43[s]\n\n\n┌ Epoch (103/149)\n├── Training Loss : 0.0003\n├── Training accuracy : 99.44%\n│ Testing ...\n└── Testing accuracy : 57.53%\nEpoch time : 0[h] 0[m] 35[s]\nEstimated time : 1[h] 26[m] 27[s]\n\n\n┌ Epoch (104/149)\n├── Training Loss : 0.0002\n├── Training accuracy : 99.72%\n│ Testing ...\n└── Testing accuracy : 71.28%\nEpoch time : 0[h] 0[m] 35[s]\nEstimated time : 1[h] 26[m] 25[s]\n\n\n┌ Epoch (105/149)\n├── Training Loss : 0.0002\n├── Training accuracy : 99.48%\n│ Testing ...\n└── Testing accuracy : 70.20%\nEpoch time : 0[h] 0[m] 35[s]\nEstimated time : 1[h] 26[m] 8[s]\n\n\n┌ Epoch (106/149)\n├── Training Loss : 0.0001\n├── Training accuracy : 99.60%\n│ Testing ...\n└── Testing accuracy : 75.95%\nEpoch time : 0[h] 0[m] 35[s]\nEstimated time : 1[h] 26[m] 11[s]\n\n\n┌ Epoch (107/149)\n├── Training Loss : 0.0001\n├── Training accuracy : 99.68%\n│ Testing ...\n└── Testing accuracy : 79.49%\nEpoch time : 0[h] 0[m] 35[s]\nEstimated time : 1[h] 26[m] 31[s]\n\n\n┌ Epoch (108/149)\n├── Training Loss : 0.0002\n├── Training accuracy : 99.64%\n│ Testing ...\n└── Testing accuracy : 77.33%\nEpoch time : 0[h] 0[m] 35[s]\nEstimated time : 1[h] 26[m] 17[s]\n\n\n┌ Epoch (109/149)\n├── Training Loss : 0.0002\n├── Training accuracy : 99.64%\n│ Testing ...\n└── Testing accuracy : 74.97%\nEpoch time : 0[h] 0[m] 35[s]\nEstimated time : 1[h] 26[m] 0[s]\n\n\n┌ Epoch (110/149)\n├── Training Loss : 0.0002\n├── Training accuracy : 99.72%\n│ Testing ...\n└── Testing accuracy : 84.70%\nEpoch time : 0[h] 0[m] 35[s]\nEstimated time : 1[h] 26[m] 3[s]\n\n\n┌ Epoch (111/149)\n├── Training Loss : 0.0003\n├── Training accuracy : 99.64%\n│ Testing ...\n└── Testing accuracy : 74.36%\nEpoch time : 0[h] 0[m] 35[s]\nEstimated time : 1[h] 25[m] 49[s]\n\n\n┌ Epoch (112/149)\n├── Training Loss : 0.0002\n├── Training accuracy : 99.68%\n│ Testing ...\n└── Testing accuracy : 77.94%\nEpoch time : 0[h] 0[m] 35[s]\nEstimated time : 1[h] 26[m] 15[s]\n\n\n┌ Epoch (113/149)\n├── Training Loss : 0.0001\n├── Training accuracy : 99.76%\n│ Testing ...\n└── Testing accuracy : 69.05%\nEpoch time : 0[h] 0[m] 35[s]\nEstimated time : 1[h] 25[m] 52[s]\n\n\n┌ Epoch (114/149)\n├── Training Loss : 0.0002\n├── Training accuracy : 99.72%\n│ Testing ...\n└── Testing accuracy : 56.72%\nEpoch time : 0[h] 0[m] 35[s]\nEstimated time : 1[h] 25[m] 56[s]\n\n\n┌ Epoch (115/149)\n├── Training Loss : 0.0001\n├── Training accuracy : 99.76%\n│ Testing ...\n└── Testing accuracy : 74.90%\nEpoch time : 0[h] 0[m] 35[s]\nEstimated time : 1[h] 26[m] 8[s]\n\n\n┌ Epoch (116/149)\n├── Training Loss : 0.0000\n├── Training accuracy : 99.88%\n│ Testing ...\n└── Testing accuracy : 75.98%\nEpoch time : 0[h] 0[m] 35[s]\nEstimated time : 1[h] 25[m] 49[s]\n\n\n┌ Epoch (117/149)\n├── Training Loss : 0.0002\n├── Training accuracy : 99.64%\n│ Testing ...\n└── Testing accuracy : 53.31%\nEpoch time : 0[h] 0[m] 35[s]\nEstimated time : 1[h] 26[m] 8[s]\n\n\n┌ Epoch (118/149)\n├── Training Loss : 0.0001\n├── Training accuracy : 99.84%\n│ Testing ...\n└── Testing accuracy : 53.11%\nEpoch time : 0[h] 0[m] 35[s]\nEstimated time : 1[h] 26[m] 22[s]\n\n\n┌ Epoch (119/149)\n├── Training Loss : 0.0001\n├── Training accuracy : 99.68%\n│ Testing ...\n└── Testing accuracy : 57.91%\nEpoch time : 0[h] 0[m] 35[s]\nEstimated time : 1[h] 26[m] 10[s]\n\n\n┌ Epoch (120/149)\n├── Training Loss : 0.0001\n├── Training accuracy : 99.84%\n│ Testing ...\n└── Testing accuracy : 78.21%\nEpoch time : 0[h] 0[m] 35[s]\nEstimated time : 1[h] 26[m] 17[s]\n\n\n┌ Epoch (121/149)\n├── Training Loss : 0.0001\n├── Training accuracy : 99.80%\n│ Testing ...\n└── Testing accuracy : 84.90%\nEpoch time : 0[h] 0[m] 35[s]\nEstimated time : 1[h] 25[m] 57[s]\n\n\n┌ Epoch (122/149)\n├── Training Loss : 0.0001\n├── Training accuracy : 99.76%\n│ Testing ...\n└── Testing accuracy : 81.69%\nEpoch time : 0[h] 0[m] 35[s]\nEstimated time : 1[h] 25[m] 59[s]\n\n\n┌ Epoch (123/149)\n├── Training Loss : 0.0001\n├── Training accuracy : 99.80%\n│ Testing ...\n└── Testing accuracy : 58.04%\nEpoch time : 0[h] 0[m] 35[s]\nEstimated time : 1[h] 25[m] 55[s]\n\n\n┌ Epoch (124/149)\n├── Training Loss : 0.0001\n├── Training accuracy : 99.84%\n│ Testing ...\n└── Testing accuracy : 71.76%\nEpoch time : 0[h] 0[m] 35[s]\nEstimated time : 1[h] 25[m] 58[s]\n\n\n┌ Epoch (125/149)\n├── Training Loss : 0.0001\n├── Training accuracy : 99.84%\n│ Testing ...\n└── Testing accuracy : 74.86%\nEpoch time : 0[h] 0[m] 35[s]\nEstimated time : 1[h] 26[m] 3[s]\n\n\n┌ Epoch (126/149)\n├── Training Loss : 0.0001\n├── Training accuracy : 99.56%\n│ Testing ...\n└── Testing accuracy : 83.89%\nEpoch time : 0[h] 0[m] 35[s]\nEstimated time : 1[h] 25[m] 56[s]\n\n\n┌ Epoch (127/149)\n├── Training Loss : 0.0002\n├── Training accuracy : 99.76%\n│ Testing ...\n└── Testing accuracy : 66.11%\nEpoch time : 0[h] 0[m] 35[s]\nEstimated time : 1[h] 26[m] 15[s]\n\n\n┌ Epoch (128/149)\n├── Training Loss : 0.0001\n├── Training accuracy : 99.72%\n│ Testing ...\n└── Testing accuracy : 71.22%\nEpoch time : 0[h] 0[m] 35[s]\nEstimated time : 1[h] 25[m] 51[s]\n\n\n┌ Epoch (129/149)\n├── Training Loss : 0.0001\n├── Training accuracy : 99.80%\n│ Testing ...\n└── Testing accuracy : 66.45%\nEpoch time : 0[h] 0[m] 35[s]\nEstimated time : 1[h] 25[m] 48[s]\n\n\n┌ Epoch (130/149)\n├── Training Loss : 0.0003\n├── Training accuracy : 99.52%\n│ Testing ...\n└── Testing accuracy : 72.77%\nEpoch time : 0[h] 0[m] 35[s]\nEstimated time : 1[h] 25[m] 54[s]\n\n\n┌ Epoch (131/149)\n├── Training Loss : 0.0001\n├── Training accuracy : 99.72%\n│ Testing ...\n└── Testing accuracy : 74.80%\nEpoch time : 0[h] 0[m] 35[s]\nEstimated time : 1[h] 25[m] 58[s]\n\n\n┌ Epoch (132/149)\n├── Training Loss : 0.0001\n├── Training accuracy : 99.80%\n│ Testing ...\n└── Testing accuracy : 65.17%\nEpoch time : 0[h] 0[m] 35[s]\nEstimated time : 1[h] 25[m] 46[s]\n\n\n┌ Epoch (133/149)\n├── Training Loss : 0.0002\n├── Training accuracy : 99.72%\n│ Testing ...\n└── Testing accuracy : 73.92%\nEpoch time : 0[h] 0[m] 35[s]\nEstimated time : 1[h] 25[m] 50[s]\n\n\n┌ Epoch (134/149)\n├── Training Loss : 0.0002\n├── Training accuracy : 99.68%\n│ Testing ...\n└── Testing accuracy : 63.82%\nEpoch time : 0[h] 0[m] 35[s]\nEstimated time : 1[h] 25[m] 51[s]\n\n\n┌ Epoch (135/149)\n├── Training Loss : 0.0002\n├── Training accuracy : 99.68%\n│ Testing ...\n└── Testing accuracy : 64.83%\nEpoch time : 0[h] 0[m] 35[s]\nEstimated time : 1[h] 25[m] 56[s]\n\n\n┌ Epoch (136/149)\n├── Training Loss : 0.0002\n├── Training accuracy : 99.60%\n│ Testing ...\n└── Testing accuracy : 74.93%\nEpoch time : 0[h] 0[m] 35[s]\nEstimated time : 1[h] 25[m] 39[s]\n\n\n┌ Epoch (137/149)\n├── Training Loss : 0.0002\n├── Training accuracy : 99.72%\n│ Testing ...\n└── Testing accuracy : 67.77%\nEpoch time : 0[h] 0[m] 35[s]\nEstimated time : 1[h] 25[m] 48[s]\n\n\n┌ Epoch (138/149)\n├── Training Loss : 0.0002\n├── Training accuracy : 99.72%\n│ Testing ...\n└── Testing accuracy : 67.77%\nEpoch time : 0[h] 0[m] 35[s]\nEstimated time : 1[h] 25[m] 52[s]\n\n\n┌ Epoch (139/149)\n├── Training Loss : 0.0002\n├── Training accuracy : 99.64%\n│ Testing ...\n└── Testing accuracy : 62.30%\nEpoch time : 0[h] 0[m] 35[s]\nEstimated time : 1[h] 25[m] 24[s]\n\n\n┌ Epoch (140/149)\n├── Training Loss : 0.0002\n├── Training accuracy : 99.84%\n│ Testing ...\n└── Testing accuracy : 63.28%\nEpoch time : 0[h] 0[m] 35[s]\nEstimated time : 1[h] 25[m] 54[s]\n\n\n┌ Epoch (141/149)\n├── Training Loss : 0.0002\n├── Training accuracy : 99.72%\n│ Testing ...\n└── Testing accuracy : 60.44%\nEpoch time : 0[h] 0[m] 35[s]\nEstimated time : 1[h] 25[m] 40[s]\n\n\n┌ Epoch (142/149)\n├── Training Loss : 0.0003\n├── Training accuracy : 99.60%\n│ Testing ...\n└── Testing accuracy : 75.54%\nEpoch time : 0[h] 0[m] 35[s]\nEstimated time : 1[h] 25[m] 30[s]\n\n\n┌ Epoch (143/149)\n├── Training Loss : 0.0001\n├── Training accuracy : 99.68%\n│ Testing ...\n└── Testing accuracy : 78.01%\nEpoch time : 0[h] 0[m] 35[s]\nEstimated time : 1[h] 25[m] 30[s]\n\n\n┌ Epoch (144/149)\n├── Training Loss : 0.0002\n├── Training accuracy : 99.37%\n│ Testing ...\n└── Testing accuracy : 59.29%\nEpoch time : 0[h] 0[m] 35[s]\nEstimated time : 1[h] 25[m] 57[s]\n\n\n┌ Epoch (145/149)\n├── Training Loss : 0.0001\n├── Training accuracy : 99.84%\n│ Testing ...\n└── Testing accuracy : 71.32%\nEpoch time : 0[h] 0[m] 35[s]\nEstimated time : 1[h] 25[m] 25[s]\n\n\n┌ Epoch (146/149)\n├── Training Loss : 0.0001\n├── Training accuracy : 99.80%\n│ Testing ...\n└── Testing accuracy : 79.36%\nEpoch time : 0[h] 0[m] 35[s]\nEstimated time : 1[h] 25[m] 41[s]\n\n\n┌ Epoch (147/149)\n├── Training Loss : 0.0001\n├── Training accuracy : 99.72%\n│ Testing ...\n└── Testing accuracy : 65.51%\nEpoch time : 0[h] 0[m] 35[s]\nEstimated time : 1[h] 25[m] 57[s]\n\n\n┌ Epoch (148/149)\n├── Training Loss : 0.0001\n├── Training accuracy : 99.80%\n│ Testing ...\n└── Testing accuracy : 59.12%\nEpoch time : 0[h] 0[m] 35[s]\nEstimated time : 1[h] 25[m] 36[s]\n\n\n┌ Epoch (149/149)\n├── Training Loss : 0.0002\n├── Training accuracy : 99.48%\n│ Testing ...\n└── Testing accuracy : 67.57%\nEpoch time : 0[h] 0[m] 35[s]\nEstimated time : 1[h] 25[m] 49[s]\n\n\n"
    }
   ],
   "source": [
    "def train_and_eval(net, epochs, train_loader, test_loader, save_name='default.pth'):\n",
    "    print(\"─── Start Training & Evalutation ───\")\n",
    "    \n",
    "    best_accuracy = 0\n",
    "    best_model = None\n",
    "    \n",
    "    for i in range(epochs):\n",
    "        print(f\"┌ Epoch ({i}/{epochs-1})\")\n",
    "        \n",
    "        time_s = time.time()\n",
    "\n",
    "        train_acc, loss, net = train(net, train_loader)\n",
    "        print(f\"├── Training Loss : {loss:.4f}\")\n",
    "        print(f'├── Training accuracy : {train_acc*100:.2f}%')\n",
    "        print(\"│ Testing ...\")\n",
    "        test_acc, net = evaluate(net, test_loader)\n",
    "        print(f'└── Testing accuracy : {test_acc*100:.2f}%')\n",
    "\n",
    "        \n",
    "\n",
    "        if test_acc > best_accuracy:\n",
    "            print(f\"  └──> Saving the best model to \\\"{save_name}\\\"\")\n",
    "            best_accuracy = test_acc\n",
    "            best_model = net.module.state_dict()\n",
    "            model_dict = {'acc':best_accuracy, 'net':best_model}\n",
    "            torch.save(model_dict, save_name)\n",
    "\n",
    "        time_e = time.time()\n",
    "        \n",
    "        epoch_t = time.gmtime(time_e - time_s)\n",
    "        est_t = time.gmtime((time_e - time_s) * epochs-1-i)\n",
    "        print(f\"Epoch time : {epoch_t.tm_hour}[h] {epoch_t.tm_min}[m] {epoch_t.tm_sec}[s]\")\n",
    "        print(f\"Estimated time : {est_t.tm_hour}[h] {est_t.tm_min}[m] {est_t.tm_sec}[s]\")\n",
    "        print(\"\\n\")\n",
    "            \n",
    "    return best_accuracy, best_model\n",
    "        \n",
    "epochs = 150\n",
    "\n",
    "accuracy, net_t = train_and_eval(net_t, epochs, train_loader, test_loader, save_name=f\"./{model_name}_x{down_scale}.pth\")\n"
   ]
  },
  {
   "cell_type": "code",
   "execution_count": null,
   "metadata": {},
   "outputs": [],
   "source": []
  }
 ],
 "metadata": {
  "kernelspec": {
   "display_name": "Python 3.6.9 64-bit",
   "language": "python",
   "name": "python_defaultSpec_1595992932236"
  },
  "language_info": {
   "codemirror_mode": {
    "name": "ipython",
    "version": 3
   },
   "file_extension": ".py",
   "mimetype": "text/x-python",
   "name": "python",
   "nbconvert_exporter": "python",
   "pygments_lexer": "ipython3",
   "version": "3.6.9-final"
  }
 },
 "nbformat": 4,
 "nbformat_minor": 4
}