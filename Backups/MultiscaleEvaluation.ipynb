{
 "cells": [
  {
   "cell_type": "code",
   "execution_count": 1,
   "metadata": {},
   "outputs": [
    {
     "name": "stdout",
     "output_type": "stream",
     "text": [
      "Current File :  ./models/mosquitoes/best_resnet18_x16_True.pth\n",
      " Accuracy : 92.97%\n",
      "Current File :  ./models/mosquitoes/best_resnet18_x1_True.pth\n",
      " Accuracy : 98.21%\n",
      "Current File :  ./models/mosquitoes/best_resnet18_x2_True.pth\n",
      " Accuracy : 98.04%\n",
      "Current File :  ./models/mosquitoes/best_resnet18_x4_True.pth\n",
      " Accuracy : 96.49%\n",
      "Current File :  ./models/mosquitoes/best_resnet18_x8_True.pth\n",
      " Accuracy : 96.01%\n",
      "Current File :  ./models/mosquitoes/best_resnet34_x16_True.pth\n",
      " Accuracy : 92.77%\n",
      "Current File :  ./models/mosquitoes/best_resnet34_x1_True.pth\n",
      " Accuracy : 97.94%\n",
      "Current File :  ./models/mosquitoes/best_resnet34_x2_True.pth\n",
      " Accuracy : 98.14%\n",
      "Current File :  ./models/mosquitoes/best_resnet34_x4_True.pth\n",
      " Accuracy : 96.96%\n",
      "Current File :  ./models/mosquitoes/best_resnet34_x8_True.pth\n",
      " Accuracy : 95.71%\n",
      "Current File :  ./models/mosquitoes/best_resnet50_x16_True.pth\n",
      " Accuracy : 94.70%\n",
      "Current File :  ./models/mosquitoes/best_resnet50_x1_True.pth\n",
      " Accuracy : 96.99%\n",
      "Current File :  ./models/mosquitoes/best_resnet50_x2_True.pth\n",
      " Accuracy : 98.01%\n",
      "Current File :  ./models/mosquitoes/best_resnet50_x4_True.pth\n",
      " Accuracy : 97.36%\n",
      "Current File :  ./models/mosquitoes/best_resnet50_x8_True.pth\n",
      " Accuracy : 96.18%\n"
     ]
    }
   ],
   "source": [
    "import glob\n",
    "import torch\n",
    "\n",
    "pth_list = glob.glob(\"./models/mosquitoes/*.pth\")\n",
    "pth_list.sort()\n",
    "\n",
    "for pth in pth_list:\n",
    "    print(\"Current File : \", pth)\n",
    "    acc = torch.load(pth)['acc']\n",
    "    print(f\" Accuracy : {acc*100:.2f}%\")\n",
    "    \n",
    "del pth_list"
   ]
  },
  {
   "cell_type": "code",
   "execution_count": 2,
   "metadata": {},
   "outputs": [
    {
     "name": "stdout",
     "output_type": "stream",
     "text": [
      "Using device ... cuda\n"
     ]
    }
   ],
   "source": [
    "import torch\n",
    "import torchvision\n",
    "import torch.nn.functional as F\n",
    "from torch import nn, optim, utils\n",
    "from torchvision import models, datasets, transforms\n",
    "\n",
    "import PIL.Image as Image\n",
    "\n",
    "from tqdm import tqdm\n",
    "import random\n",
    "import cv2\n",
    "import os\n",
    "import lrResnet\n",
    "\n",
    "import matplotlib.pyplot as plt\n",
    "\n",
    "plt.rcParams['figure.figsize'] = (10,10)\n",
    "device = torch.device('cuda') if torch.cuda.is_available() else torch.device('cpu')\n",
    "print(\"Using device ...\", device)"
   ]
  },
  {
   "cell_type": "code",
   "execution_count": 3,
   "metadata": {},
   "outputs": [],
   "source": [
    "def get_model(model, pretrained=False, down_scale=4, num_classes = 18):\n",
    "    if model == 'resnet50':\n",
    "        if down_scale == 1:\n",
    "            net = models.resnet50(pretrained=pretrained, num_classes=num_classes)\n",
    "        else:\n",
    "            net = lrResnet.resnet50_LR(scale=down_scale, pretrained=pretrained)\n",
    "        net.fc = nn.Linear(in_features=2048, out_features=num_classes)\n",
    "    elif model == 'resnet34':\n",
    "        if down_scale == 1:\n",
    "            net = models.resnet34(pretrained=pretrained, num_classes=num_classes)\n",
    "        else:\n",
    "            net = lrResnet.resnet34_LR(scale=down_scale, pretrained=pretrained)\n",
    "        net.fc = nn.Linear(in_features=512, out_features=num_classes)\n",
    "        \n",
    "    elif model == 'resnet18':\n",
    "        if down_scale == 1:\n",
    "            net = models.resnet18(pretrained=pretrained, num_classes=num_classes)\n",
    "        else:\n",
    "            net = lrResnet.resnet18_LR(scale=down_scale, pretrained=pretrained)\n",
    "        net.fc = nn.Linear(in_features=512, out_features=num_classes)\n",
    "    return net\n",
    "model_name = 'resnet50'\n",
    "down_scale = 16\n",
    "net_t = get_model(model_name, pretrained=False, down_scale=down_scale, num_classes=18)\n",
    "\n",
    "w_dict = torch.load(f\"./models/birds/best_{model_name}_x{down_scale}_True.pth\")['net']\n",
    "net_t.load_state_dict(w_dict)\n",
    "net_t = net_t.to(device)"
   ]
  },
  {
   "cell_type": "code",
   "execution_count": 4,
   "metadata": {},
   "outputs": [
    {
     "name": "stdout",
     "output_type": "stream",
     "text": [
      "[1] Accuracy: 17.67%\n",
      "[2] Accuracy: 38.00%\n",
      "[4] Accuracy: 63.56%\n",
      "[8] Accuracy: 78.00%\n",
      "[16] Accuracy: 72.56%\n"
     ]
    }
   ],
   "source": [
    "for i in [1,2,4,8,16]:\n",
    "    \n",
    "    init_scale = 1.15\n",
    "\n",
    "    test_scale = i\n",
    "\n",
    "# -------->> For mosquitoes >>--------\n",
    "#     transforms_test = transforms.Compose([\n",
    "#         transforms.Resize(224//down_scale),\n",
    "#         transforms.ToTensor()\n",
    "#     ])\n",
    "#     test_dataset = datasets.ImageFolder(\"/media/data/MosquitoDL/Test/\", transform=transforms_test)\n",
    "# ------------------------------------\n",
    "\n",
    "# -------->> For ILSVRC Birds >>----------\n",
    "    transforms_test = transforms.Compose([\n",
    "        transforms.Resize(256),\n",
    "        transforms.CenterCrop(224),\n",
    "        transforms.Resize(224//test_scale),\n",
    "        transforms.ToTensor(),\n",
    "    ])\n",
    "    test_dataset = datasets.ImageFolder(\"../dataset/ILSVRC_Birds/val\", transform=transforms_test)\n",
    "# ----------------------------------------    \n",
    "\n",
    "\n",
    "    test_loader = utils.data.DataLoader(test_dataset, batch_size=16, shuffle=True)\n",
    "\n",
    "    def evaluate(net ,test_loader):\n",
    "        net.eval()\n",
    "\n",
    "        n_count = 0\n",
    "        n_corrects = 0\n",
    "\n",
    "        for j, data in enumerate(test_loader):\n",
    "\n",
    "\n",
    "            batch, label = data[0].to(device), data[1].to(device)\n",
    "\n",
    "            pred = net(batch)\n",
    "\n",
    "            n_corrects += torch.sum(torch.argmax(pred, dim=1) == label).item()\n",
    "            n_count += label.shape[0]\n",
    "\n",
    "        test_accuracy = n_corrects/n_count\n",
    "\n",
    "        return test_accuracy, net\n",
    "    with torch.no_grad():\n",
    "        acc, net_t = evaluate(net_t, test_loader)\n",
    "\n",
    "        print(f\"[{i}] Accuracy: {acc*100:.2f}%\")"
   ]
  }
 ],
 "metadata": {
  "kernelspec": {
   "display_name": "Python 3",
   "language": "python",
   "name": "python3"
  },
  "language_info": {
   "codemirror_mode": {
    "name": "ipython",
    "version": 3
   },
   "file_extension": ".py",
   "mimetype": "text/x-python",
   "name": "python",
   "nbconvert_exporter": "python",
   "pygments_lexer": "ipython3",
   "version": "3.6.9"
  }
 },
 "nbformat": 4,
 "nbformat_minor": 4
}
