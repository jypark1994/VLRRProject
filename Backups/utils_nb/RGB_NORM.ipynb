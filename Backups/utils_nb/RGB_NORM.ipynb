{
 "cells": [
  {
   "cell_type": "code",
   "execution_count": 32,
   "metadata": {},
   "outputs": [],
   "source": [
    "# Get image channel std, mean\n",
    "\n",
    "import cv2\n",
    "import glob\n",
    "import numpy as np"
   ]
  },
  {
   "cell_type": "code",
   "execution_count": 34,
   "metadata": {},
   "outputs": [
    {
     "name": "stdout",
     "output_type": "stream",
     "text": [
      "23400\n",
      "[0.41394996 0.4793801  0.4704038 ]\n",
      "[0.21167022 0.20279775 0.2035766 ]\n"
     ]
    }
   ],
   "source": [
    "img_list = glob.glob(\"../dataset/ILSVRC_Birds/train/**/*.JPEG\",recursive=True)\n",
    "\n",
    "print(len(img_list))\n",
    "\n",
    "mean = np.array([0., 0., 0.])\n",
    "std = np.array([0., 0., 0.])\n",
    "for i, p in enumerate(img_list):\n",
    "    img = cv2.imread(p)\n",
    "    \n",
    "    R_mean = (img[:,:,0]/255.).mean()\n",
    "    G_mean = (img[:,:,1]/255.).mean()\n",
    "    B_mean = (img[:,:,2]/255.).mean()\n",
    "    \n",
    "    R_std = (img[:,:,0]/255.).std()\n",
    "    G_std = (img[:,:,1]/255.).std()\n",
    "    B_std = (img[:,:,2]/255.).std()\n",
    "    \n",
    "    mean += np.array([R_mean, G_mean, B_mean])\n",
    "    std += np.array([R_std, G_std, B_std])\n",
    "    \n",
    "mean /= len(img_list)\n",
    "std /= len(img_list)\n",
    "\n",
    "print(mean)\n",
    "print(std)"
   ]
  }
 ],
 "metadata": {
  "kernelspec": {
   "display_name": "Python 3",
   "language": "python",
   "name": "python3"
  },
  "language_info": {
   "codemirror_mode": {
    "name": "ipython",
    "version": 3
   },
   "file_extension": ".py",
   "mimetype": "text/x-python",
   "name": "python",
   "nbconvert_exporter": "python",
   "pygments_lexer": "ipython3",
   "version": "3.6.9"
  }
 },
 "nbformat": 4,
 "nbformat_minor": 4
}
