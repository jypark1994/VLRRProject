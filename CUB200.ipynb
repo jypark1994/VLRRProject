{
 "metadata": {
  "language_info": {
   "codemirror_mode": {
    "name": "ipython",
    "version": 3
   },
   "file_extension": ".py",
   "mimetype": "text/x-python",
   "name": "python",
   "nbconvert_exporter": "python",
   "pygments_lexer": "ipython3",
   "version": "3.6.9-final"
  },
  "orig_nbformat": 2,
  "kernelspec": {
   "name": "python_defaultSpec_1599635415995",
   "display_name": "Python 3.6.9 64-bit"
  }
 },
 "nbformat": 4,
 "nbformat_minor": 2,
 "cells": [
  {
   "cell_type": "code",
   "execution_count": 1,
   "metadata": {
    "tags": []
   },
   "outputs": [
    {
     "output_type": "stream",
     "name": "stdout",
     "text": "Files already downloaded and verified\nFiles already downloaded and verified\ntorch.Size([32, 3, 56, 56])\n"
    }
   ],
   "source": [
    "import CUB200\n",
    "\n",
    "#--------- Test Code --------#\n",
    "\n",
    "# train_loader, test_loader = CUB200.CUB200_MultiScale_get_loaders(keep_size=False)\n",
    "\n",
    "# for data in train_loader:\n",
    "#     HR, LR, Target = data[0], data[1], data[2]\n",
    "#     print(HR.shape)\n",
    "#     print(LR.shape)\n",
    "#     break\n",
    "\n",
    "train_loader2, test_loader2 = CUB200.CUB200_get_loaders(keep_size=False)\n",
    "\n",
    "for data in train_loader2:\n",
    "    Img, Target = data[0], data[1]\n",
    "    print(Img.shape)\n",
    "    break"
   ]
  },
  {
   "cell_type": "code",
   "execution_count": null,
   "metadata": {},
   "outputs": [],
   "source": []
  }
 ]
}