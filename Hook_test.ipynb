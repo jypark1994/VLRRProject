{
 "metadata": {
  "language_info": {
   "codemirror_mode": {
    "name": "ipython",
    "version": 3
   },
   "file_extension": ".py",
   "mimetype": "text/x-python",
   "name": "python",
   "nbconvert_exporter": "python",
   "pygments_lexer": "ipython3",
   "version": "3.7.6-final"
  },
  "orig_nbformat": 2,
  "kernelspec": {
   "name": "python_defaultSpec_1597366883638",
   "display_name": "Python 3.7.6 64-bit ('base': conda)"
  }
 },
 "nbformat": 4,
 "nbformat_minor": 2,
 "cells": [
  {
   "cell_type": "code",
   "execution_count": 27,
   "metadata": {},
   "outputs": [],
   "source": [
    "import torch\n",
    "from torch import nn\n",
    "from torchvision import models"
   ]
  },
  {
   "cell_type": "code",
   "execution_count": 41,
   "metadata": {
    "tags": []
   },
   "outputs": [],
   "source": [
    "class HookWrapper(nn.Module):\n",
    "    '''\n",
    "        Wrapper class for Forward/Backward feature map extraction.\n",
    "\n",
    "        - Usage -\n",
    "        1) Make the instance of this class with the model and target layers.\n",
    "        2) Forward/Backward it.\n",
    "        3) Call get_features() will return the feature maps of previously forward/backwarded input.\n",
    "        4) Back to 2).\n",
    "    '''\n",
    "    def __init__(self, model, target_layers):\n",
    "        super(HookWrapper,self).__init__()\n",
    "        self.model = model\n",
    "        self.target_layers = target_layers\n",
    "        self.features = [] # Size will be 4 after hook\n",
    "\n",
    "        for name, module in model.named_children():\n",
    "            if name in target_layers:\n",
    "                module.register_forward_hook(self._extraction_fn)\n",
    "\n",
    "    def _extraction_fn(self, module, input, output):\n",
    "        # print(f\"Test : {output.shape}\")\n",
    "        self.features.append(output)\n",
    "\n",
    "    def forward(self, x):\n",
    "        return self.model(x)\n",
    "    \n",
    "    def get_features(self): # Return feature list and make it empty.\n",
    "        tmp = self.features\n",
    "        self.features = []\n",
    "        return tmp\n",
    "\n",
    "target_layers = ['layer1', 'layer2', 'layer3', 'layer4']\n",
    "\n",
    "net = models.resnet18(pretrained=True)\n",
    "hook_net = HookWrapper(net, target_layers)"
   ]
  },
  {
   "cell_type": "code",
   "execution_count": 45,
   "metadata": {
    "tags": []
   },
   "outputs": [
    {
     "output_type": "stream",
     "name": "stdout",
     "text": "4\n"
    }
   ],
   "source": [
    "x = torch.randn((1,3,224,224))\n",
    "\n",
    "pred = hook_net(x)\n",
    "features = hook_net.get_features()\n",
    "print(len(features))"
   ]
  }
 ]
}