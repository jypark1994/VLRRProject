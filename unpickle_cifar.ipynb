{
 "metadata": {
  "language_info": {
   "codemirror_mode": {
    "name": "ipython",
    "version": 3
   },
   "file_extension": ".py",
   "mimetype": "text/x-python",
   "name": "python",
   "nbconvert_exporter": "python",
   "pygments_lexer": "ipython3",
   "version": 3
  },
  "orig_nbformat": 2
 },
 "nbformat": 4,
 "nbformat_minor": 2,
 "cells": [
  {
   "cell_type": "code",
   "execution_count": null,
   "metadata": {},
   "outputs": [],
   "source": [
    "def unpickle(file, output_dir):\n",
    "    import pickle\n",
    "    with open(file, 'rb') as fo:\n",
    "        dict = pickle.load(fo, encoding='bytes')\n",
    "        len_dict = len(dict[b'data'])\n",
    "        \n",
    "        for i in range(len_dict):\n",
    "            label = dict[b'labels'][i]\n",
    "            data = dict[b'data'][i]\n",
    "            filename = dict[b'filenames'][i]\n",
    "            os.makedirs(os.path.join(output_dir, str(label)),exist_ok=True)\n",
    "            output_path = os.path.join(output_dir, str(label), filename.decode())\n",
    "            data = np.array(data).reshape([3, 32, 32])\n",
    "            data = data.transpose([1,2,0])\n",
    "            data = cv2.cvtColor(data, cv2.COLOR_BGR2RGB)\n",
    "            # print(f'File saved to \\'{output_path}\\'')\n",
    "            cv2.imwrite(output_path, data)\n",
    "\n",
    "for i in range(1,6):\n",
    "    unpickle(f'../datasets/cifar-10-batches-py/data_batch_{i}', '../datasets/cifar-10/train')\n",
    "unpickle('../datasets/cifar-10-batches-py/test_batch', '../datasets/cifar-10/test')"
   ]
  }
 ]
}