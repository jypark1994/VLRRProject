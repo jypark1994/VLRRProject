{
 "metadata": {
  "language_info": {
   "codemirror_mode": {
    "name": "ipython",
    "version": 3
   },
   "file_extension": ".py",
   "mimetype": "text/x-python",
   "name": "python",
   "nbconvert_exporter": "python",
   "pygments_lexer": "ipython3",
   "version": "3.6.9-final"
  },
  "orig_nbformat": 2,
  "kernelspec": {
   "name": "python_defaultSpec_1598844689358",
   "display_name": "Python 3.6.9 64-bit"
  }
 },
 "nbformat": 4,
 "nbformat_minor": 2,
 "cells": [
  {
   "cell_type": "code",
   "execution_count": 3,
   "metadata": {},
   "outputs": [],
   "source": [
    "import torch\n",
    "import torchvision.models\n",
    "from torch import nn, optim, utils\n",
    "from datasets import ILSVRC_Birds"
   ]
  },
  {
   "cell_type": "code",
   "execution_count": 5,
   "metadata": {},
   "outputs": [],
   "source": [
    "class EnhanceNet(nn.Module):\n",
    "    def __init__(self):\n",
    "        ft_ext = nn.Sequential({\n",
    "            torchvision.models.BasicBlock(3,64),\n",
    "            torchvision.models.BasicBlock(64,64),\n",
    "            torchvision.models.BasicBlock(64,64),\n",
    "            torchvision.models.BasicBlock(64,64),\n",
    "            torchvision.models.BasicBlock(64,64)\n",
    "        })\n",
    "\n",
    "        upsample = upsample()\n",
    "\n",
    "\n",
    "    def forward(self, x):\n",
    "        return self.net(x)"
   ]
  }
 ]
}